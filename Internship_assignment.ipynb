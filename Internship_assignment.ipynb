{
  "nbformat": 4,
  "nbformat_minor": 0,
  "metadata": {
    "colab": {
      "provenance": [],
      "mount_file_id": "1TYqgoqUWFfQp3yXHFs_vawXRPxT9nbC_",
      "authorship_tag": "ABX9TyOuDsJPkc9ndiJSJ7NsKFYZ",
      "include_colab_link": true
    },
    "kernelspec": {
      "name": "python3",
      "display_name": "Python 3"
    },
    "language_info": {
      "name": "python"
    }
  },
  "cells": [
    {
      "cell_type": "markdown",
      "metadata": {
        "id": "view-in-github",
        "colab_type": "text"
      },
      "source": [
        "<a href=\"https://colab.research.google.com/github/OWAIS086/FIVER/blob/main/Internship_assignment.ipynb\" target=\"_parent\"><img src=\"https://colab.research.google.com/assets/colab-badge.svg\" alt=\"Open In Colab\"/></a>"
      ]
    },
    {
      "cell_type": "code",
      "source": [
        "\"\"\" colorthief is a Python module for grabbing the color palette from an image.\n",
        "    matplotlib work like MATLAB. Each pyplot function makes some change to a figure\n",
        "    matplotlib mpimg is use to display image \n",
        "\"\"\""
      ],
      "metadata": {
        "id": "CwJpUJgRzkhB"
      },
      "execution_count": null,
      "outputs": []
    },
    {
      "cell_type": "code",
      "source": [
        "# colorthief is not insatll in google colab so we can install manually \n",
        "!pip install  urllib2\n",
        "\n",
        "#import module  \n",
        "from colorthief import ColorThief\n",
        "import matplotlib.pyplot as plt\n",
        "from matplotlib import image as mpimg"
      ],
      "metadata": {
        "id": "SDKQrLGzyW0E"
      },
      "execution_count": null,
      "outputs": []
    },
    {
      "cell_type": "code",
      "source": [
        "#Display the original image \n",
        "plt.imshow(mpimg.imread('assignment pic.png'))"
      ],
      "metadata": {
        "id": "amTcR5M_0QKO"
      },
      "execution_count": null,
      "outputs": []
    },
    {
      "cell_type": "code",
      "source": [
        "# first we take iamge using Colorthief and assign in ct or print color value \n",
        "\n",
        "ct = ColorThief(\"assignment pic.png\")\n",
        "\n",
        "dominante_color = ct.get_color(quality=1)\n",
        "\n",
        "#using matplotlib display most dominante color of given image \n",
        "\n",
        "plt.imshow([[dominante_color]])\n",
        "plt.title(\"Most  dominant color  \")\n",
        "plt.show()\n",
        "print(\"RGB vale \",ct.get_color(quality=1))"
      ],
      "metadata": {
        "id": "4ATGavpWyabY"
      },
      "execution_count": null,
      "outputs": []
    },
    {
      "cell_type": "code",
      "source": [
        "# use  ct.get_palette to get 5 color  paltte and then assign dominante color using for loop\n",
        "\n",
        "palette = ct.get_palette(color_count=5)\n",
        "plt.imshow([[palette[i] for i in range(5)]])\n",
        "plt.title(\"dominant color are   \")\n",
        "plt.show()\n",
        "print(\"RGB are\",[[palette[i] for i in range(5)]])\n"
      ],
      "metadata": {
        "id": "bTkbQ7ERzMbp"
      },
      "execution_count": null,
      "outputs": []
    },
    {
      "cell_type": "code",
      "source": [
        "# again read image for color distribution\n",
        "img=mpimg.imread('assignment pic.png')\n",
        "\n",
        "#image sclicing into 2D.\n",
        "x=img[:,:,0]\n",
        "\n",
        "#plot the image on a plane.\n",
        "plt.title(\"color distribution chart  \")\n",
        "plt.xlabel(\"Value\")\n",
        "plt.ylabel(\"pixels Frequency\")\n",
        "\n",
        "#The hist() function in pyplot module of matplotlib library is used to plot a histogram\n",
        "plt.hist(x)\n",
        "plt.show()\n"
      ],
      "metadata": {
        "id": "GbdQ_ifwzP6H"
      },
      "execution_count": null,
      "outputs": []
    }
  ]
}